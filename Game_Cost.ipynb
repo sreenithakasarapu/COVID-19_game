{
 "cells": [
  {
   "cell_type": "code",
   "execution_count": 1,
   "metadata": {
    "id": "W3K4saiP5b6W"
   },
   "outputs": [],
   "source": [
    "import numpy as np\n",
    "import matplotlib.pyplot as plt\n",
    "from matplotlib.widgets import Slider, Button\n",
    "import matplotlib.patches as patches"
   ]
  },
  {
   "cell_type": "code",
   "execution_count": 2,
   "metadata": {
    "id": "KEx_CLW85g_s"
   },
   "outputs": [],
   "source": [
    "p = 19747823.9 #population\n",
    "\n",
    "i = 0.03*p  #infected\n",
    "s = p-i #susceptible\n",
    "r = 0.1 #recovered/removed\n",
    "e=0.2*p #exposed\n",
    "d= 0    #dead\n",
    "\n",
    "alpha = 1.3  #transmission parameter\n",
    "beta = 0.2 #recovery parameter\n",
    "gamma = 0.03 #mortality parameter\n",
    "\n",
    "#Defence Strategy Parameters\n",
    "m = 0.3 #masking\n",
    "sd = 0.2 #social distancing\n",
    "ct = 5 #contact tracing\n",
    "\n",
    "#Attacking Strategy Parameters\n",
    "ri = 1.2 #reduced incubation\n",
    "e = 1.35 #evolution of the disease\n",
    "rz = 1.5 #creating red zones\n",
    "\n",
    "#Cost Function Parameters for Defender\n",
    "CMM = 2\n",
    "CM = 1\n",
    "CSSD = 5\n",
    "CSD = 4\n",
    "CCT = 25\n",
    "\n",
    "#Cost Function Parameters for Attacker\n",
    "CRI = 3.5\n",
    "CE = 4.8\n",
    "CRZ = 6.7\n",
    "\n",
    "initialTime = 0\n",
    "deltaTime = 0.03 #dividing time into small parts\n",
    "maxTime = 500 #maximum time over which the model is observed\n",
    "maxTimeInitial = maxTime"
   ]
  },
  {
   "cell_type": "code",
   "execution_count": 3,
   "metadata": {
    "id": "yCVKU2uy5iS8"
   },
   "outputs": [],
   "source": [
    "#alpha is the transmission rate\n",
    "#beta is the recovery rate\n",
    "#gamma is the mortality rate\n",
    "\n",
    "def susceptible(S, I, alpha):    \n",
    "    return -1*((alpha*S*I)/p)\n",
    "\n",
    "def exposed(S, I, E, alpha, beta): \n",
    "    return ((alpha*S*I)/p)-beta*E\n",
    "\n",
    "def infected(I, S, alpha, beta, gamma):\n",
    "    return (((alpha*S)/p)-beta)*I - gamma*I\n",
    "\n",
    "def recovered(I, beta):\n",
    "    return beta*I\n",
    "\n",
    "def dead(I, gamma):\n",
    "    return gamma*I\n",
    "\n",
    "def infect_after_strategy(I, S, strategy_factor, alpha, beta, gamma): \n",
    "    return strategy_factor*((((alpha*S)/p)-beta)*I - gamma*I)\n",
    "\n",
    "def masking_cost(S, I):\n",
    "    return CMM*I + CM*S\n",
    "                          \n",
    "def socialdistancing_cost(S, I):\n",
    "    return CSSD*I + CSD*S\n",
    "                          \n",
    "def contacttracing_cost(I):\n",
    "    return CCT*I\n",
    "    \n",
    "def reducedincubation_cost(S, R):\n",
    "    return (S + R)*CRI\n",
    "                          \n",
    "def evolution_cost(S, R):\n",
    "    return (S + R)*CE\n",
    "                          \n",
    "def redzones_cost(S, R):\n",
    "    return (S + R)*CRZ\n",
    "                          \n",
    "                          "
   ]
  },
  {
   "cell_type": "code",
   "execution_count": 4,
   "metadata": {
    "id": "bC_EAIT95qQp"
   },
   "outputs": [],
   "source": [
    "def Cost_generation(transRate, recovRate, maxT): # defining a data generating function for generating variable s, e, i, r, d values\n",
    "    global alpha, beta, gamma, strategy_factor, maxTimeInitial #defining the variables for generating data\n",
    "    \n",
    "    # initializing the variables\n",
    "    \n",
    "    alpha = transRate\n",
    "    beta = recovRate\n",
    "    \n",
    "    maxTimeInitial = maxT\n",
    "\n",
    "    sInitial = s\n",
    "    iInitial = i\n",
    "    rInitial = r\n",
    "    mInitial = m\n",
    "    sdInitial = sd\n",
    "    ctInitial = ct\n",
    "    riInitial = ri\n",
    "    eInitial = e\n",
    "    redInitial = rz\n",
    "    \n",
    "    \n",
    "    time = np.arange(maxTimeInitial+1) \n",
    "    mVals = np.zeros(maxTimeInitial+1) \n",
    "    sdVals = np.zeros(maxTimeInitial+1) \n",
    "    ctVals = np.zeros(maxTimeInitial+1) \n",
    "    riVals = np.zeros(maxTimeInitial+1) \n",
    "    eVals = np.zeros(maxTimeInitial+1) \n",
    "    redVals = np.zeros(maxTimeInitial+1)\n",
    "\n",
    "    for t in range(initialTime, maxTimeInitial+1): #generating new values with change of time t\n",
    "        mVals[t] = mInitial\n",
    "        sdVals[t] = sdInitial\n",
    "        ctVals[t] = ctInitial\n",
    "        riVals[t] = riInitial\n",
    "        eVals[t] = eInitial\n",
    "        redVals[t] = redInitial\n",
    "        \n",
    "        newDeltas = (masking_cost(sInitial, iInitial), socialdistancing_cost(iInitial, sInitial), \n",
    "                     contacttracing_cost(iInitial), reducedincubation_cost(sInitial, rInitial),\n",
    "                     evolution_cost(sInitial, rInitial), redzones_cost(sInitial, rInitial))\n",
    "        \n",
    "        mInitial += newDeltas[0]*deltaTime \n",
    "        sdInitial += newDeltas[1]*deltaTime \n",
    "        ctInitial += newDeltas[2]*deltaTime \n",
    "        riInitial += newDeltas[3]*deltaTime \n",
    "        eInitial += newDeltas[4]*deltaTime\n",
    "        redInitial += newDeltas[5]*deltaTime\n",
    "      \n",
    "        if mInitial < 0 or sdInitial < 0 or ctInitial < 0 or riInitial <0 or eInitial < 0 or redInitial <0 :\n",
    "            break \n",
    "            \n",
    "    return (time, mVals, sdVals, ctVals, riVals, eVals, redVals)\n"
   ]
  },
  {
   "cell_type": "code",
   "execution_count": 5,
   "metadata": {
    "id": "zQ9TRfw75vbi"
   },
   "outputs": [],
   "source": [
    "t, c_m, c_sd, c_ct, c_ri, c_e, c_red = Cost_generation(alpha, beta, maxTimeInitial)"
   ]
  },
  {
   "cell_type": "code",
   "execution_count": 6,
   "metadata": {
    "colab": {
     "base_uri": "https://localhost:8080/",
     "height": 290
    },
    "id": "lnHJqeSkl4GT",
    "outputId": "e7638131-20bc-4d3c-a4cc-23585b946263"
   },
   "outputs": [
    {
     "data": {
      "image/png": "[encoded data removed]",
      "text/plain": [
       "<Figure size 432x288 with 1 Axes>"
      ]
     },
     "metadata": {
      "needs_background": "light"
     },
     "output_type": "display_data"
    }
   ],
   "source": [
    "plt.figure()\n",
    "plt.plot(t, c_m, label='Masking')\n",
    "plt.plot(t, c_sd, label='Social Distancing')\n",
    "plt.plot(t, c_ct, label='Contact Tracing')\n",
    "plt.plot(t, c_ri, label='Reduced Incubation')\n",
    "plt.plot(t, c_e, label='Evolution')\n",
    "plt.plot(t, c_red, label='Red Zones')\n",
    "plt.xlabel('Time(Days)')\n",
    "plt.ylabel('Costs for New York ($)')\n",
    "plt.legend()\n",
    "plt.savefig(\"cost_func.pdf\", bbox_inches = 'tight')"
   ]
  },
  {
   "cell_type": "code",
   "execution_count": null,
   "metadata": {
    "id": "2wf-RVu-nYct"
   },
   "outputs": [],
   "source": []
  }
 ],
 "metadata": {
  "colab": {
   "collapsed_sections": [],
   "name": "GameTheoryC.ipynb",
   "provenance": []
  },
  "kernelspec": {
   "display_name": "Python 3",
   "language": "python",
   "name": "python3"
  },
  "language_info": {
   "codemirror_mode": {
    "name": "ipython",
    "version": 3
   },
   "file_extension": ".py",
   "mimetype": "text/x-python",
   "name": "python",
   "nbconvert_exporter": "python",
   "pygments_lexer": "ipython3",
   "version": "3.7.3"
  }
 },
 "nbformat": 4,
 "nbformat_minor": 1
}
